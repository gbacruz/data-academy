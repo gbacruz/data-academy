{
 "cells": [
  {
   "cell_type": "code",
   "execution_count": 265,
   "metadata": {},
   "outputs": [
    {
     "name": "stdout",
     "output_type": "stream",
     "text": [
      "We need two equal matrixes to perform the addition\n",
      "[[1, 2], [3, 4], [5, 6]] * 9 = [[9, 18], [27, 36], [45, 54]]\n"
     ]
    },
    {
     "data": {
      "text/plain": [
       "[[9, 18], [27, 36], [45, 54]]"
      ]
     },
     "execution_count": 265,
     "metadata": {},
     "output_type": "execute_result"
    }
   ],
   "source": [
    "class MatrixMade:\n",
    "    \n",
    "    def __init__(self, formato=(1,1), raiz=0):\n",
    "        if type(formato) is not tuple:\n",
    "            assert False,'Format not valid' \n",
    "        self.formato = formato\n",
    "        self.raiz = raiz\n",
    "        self.matriz = []\n",
    "        self.product = []\n",
    "    \n",
    "    def build_matrix(self)->[]:\n",
    "        self.c = raiz\n",
    "        for r in range(0,self.formato[0]):\n",
    "            ro = []\n",
    "            for c in range(0, self.formato[1]):\n",
    "                ro.append(self.c)\n",
    "                self.c +=1\n",
    "            self.matriz.append(ro)\n",
    "        return self.matriz\n",
    "    \n",
    "    def validate_matrix(self, matrix=None):\n",
    "        if not matrix:\n",
    "            matrix = self.matriz\n",
    "        cols = set()\n",
    "        for row in matrix:\n",
    "            cols.add(len(row))\n",
    "        if len(cols)>1:\n",
    "            return False\n",
    "        return True\n",
    "            \n",
    "    def get_matrix(self):\n",
    "        return self.matriz\n",
    "    \n",
    "    def get_arr_matrix(self, matrix=None):\n",
    "        if not self.validate_matrix(matrix):\n",
    "            return False\n",
    "        formato = (len(matrix),len(matrix[0]))\n",
    "        return formato\n",
    "    \n",
    "    def matrix_addition(self, second_matrix=[]):\n",
    "        if not len(self.matriz)==len(second_matrix) or not second_matrix or not self.matriz:\n",
    "            print('We need two equal matrixes to perform the addition')\n",
    "            return False\n",
    "        suma = []\n",
    "        for i in range(0, len(self.matriz)):\n",
    "            if not len(self.matriz[i])==len(second_matrix[i]):\n",
    "                print('We need two equal matrixes to perform the addition')\n",
    "                return False\n",
    "            suma_row = [self.matriz[i][a] + second_matrix[i][a] for a in range(0,len(self.matriz[i])) ]\n",
    "            suma.append(suma_row)\n",
    "        return suma\n",
    "    \n",
    "    def scalar_product(self, scalar=1):\n",
    "        for row in self.matriz:\n",
    "            self.product.append([scalar * c for c in row])\n",
    "        print(f'{self.matriz} * {scalar} = {self.product}')\n",
    "        return self.product\n",
    "        \n",
    "\n",
    "    def matrix_product(self, matrixB = []):\n",
    "        matrix_a = self.get_arr_matrix(self.matriz)\n",
    "        matrix_b = self.get_arr_matrix(matrixB)\n",
    "        \n",
    "        product = []\n",
    "        if not matrix_a[1] == matrix_b[0]:\n",
    "            print('Matrix have no match for the matricial product')\n",
    "            return False\n",
    "        lenA = len(self.matriz)\n",
    "        lenB = len(matrixB)\n",
    "\n",
    "        b = []\n",
    "        for i in range(0,lenA):\n",
    "            c = []\n",
    "            for j in range(0,lenB):\n",
    "                c.append(matrixB[j][i])\n",
    "            b.append(c)\n",
    "        product_final = []\n",
    "        for i,row in enumerate(self.matriz):\n",
    "            product_r = []\n",
    "            for j,rox in enumerate(b):\n",
    "                mul = []\n",
    "                for c in range(0,len(rox)):\n",
    "                    mul.append(row[c]*rox[c])\n",
    "                product_r.append(sum(mul))    \n",
    "            product_final.append(product_r)\n",
    "        return product_final\n",
    "        \n",
    "formato = (3,2)\n",
    "raiz = 1\n",
    "matriz_dos = [[1,2,3],[4,5,6]]\n",
    "\n",
    "matrix = MatrixMade(formato=formato, raiz=raiz)\n",
    "matrix.build_matrix()\n",
    "matrix.matrix_product(matrixB=matriz_dos)\n",
    "matrix.matrix_addition(second_matrix=matriz_dos)\n",
    "matrix.scalar_product(scalar=9)\n",
    "\n"
   ]
  }
 ],
 "metadata": {
  "kernelspec": {
   "display_name": "Python 3",
   "language": "python",
   "name": "python3"
  },
  "language_info": {
   "codemirror_mode": {
    "name": "ipython",
    "version": 3
   },
   "file_extension": ".py",
   "mimetype": "text/x-python",
   "name": "python",
   "nbconvert_exporter": "python",
   "pygments_lexer": "ipython3",
   "version": "3.7.6"
  }
 },
 "nbformat": 4,
 "nbformat_minor": 4
}
